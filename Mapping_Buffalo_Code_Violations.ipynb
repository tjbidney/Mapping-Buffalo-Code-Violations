{
 "cells": [
  {
   "cell_type": "code",
   "execution_count": null,
   "metadata": {},
   "outputs": [],
   "source": [
    "import geopandas as gpd\n",
    "import pandas as pd\n",
    "import geopy as gpy\n",
    "import matplotlib.pyplot as plt\n",
    "import contextily as ctx\n",
    "%matplotlib inline"
   ]
  },
  {
   "cell_type": "code",
   "execution_count": null,
   "metadata": {},
   "outputs": [],
   "source": [
    "pd.set_option('display.max_columns', None)"
   ]
  },
  {
   "cell_type": "markdown",
   "metadata": {},
   "source": [
    "# Point frequency map showing the properties with 20 or more code violations"
   ]
  },
  {
   "cell_type": "markdown",
   "metadata": {},
   "source": [
    "## Read data into geoDataFrame"
   ]
  },
  {
   "cell_type": "code",
   "execution_count": null,
   "metadata": {
    "scrolled": true
   },
   "outputs": [],
   "source": [
    "url = 'https://data.buffalony.gov/resource/ivrf-k9vm.geojson?$limit=1000000'\n",
    "code_v = codev_extra = gpd.read_file(url)\n",
    "code_v.shape"
   ]
  },
  {
   "cell_type": "markdown",
   "metadata": {},
   "source": [
    "## Remove record with no geometry"
   ]
  },
  {
   "cell_type": "code",
   "execution_count": null,
   "metadata": {},
   "outputs": [],
   "source": [
    "nrows = code_v.shape[0]\n",
    "code_v = code_v.loc[code_v.geometry.notnull()]\n",
    "krows = code_v.shape[0]\n",
    "removed = nrows - krows\n",
    "pctremoved = (removed/nrows)*100\n",
    "print (\"Original number of rows = {}\\nNumber of rows missing coordinates = {},\\nPercent missing data = {:6.1f}%\".format(nrows, removed, pctremoved))\n",
    "if pctremoved > 10:\n",
    "    print(\"\\nWARNING: Percent missing location data exceeds recommended limit!\")"
   ]
  },
  {
   "cell_type": "markdown",
   "metadata": {},
   "source": [
    "## New field that combines the longitude and latitude value into a single string"
   ]
  },
  {
   "cell_type": "code",
   "execution_count": null,
   "metadata": {},
   "outputs": [],
   "source": [
    "long_lat = (code_v['longitude'] + code_v['latitude']).values\n",
    "code_v = code_v.assign(newloc = long_lat)"
   ]
  },
  {
   "cell_type": "markdown",
   "metadata": {},
   "source": [
    "## Count number of times each point value occurs"
   ]
  },
  {
   "cell_type": "code",
   "execution_count": null,
   "metadata": {},
   "outputs": [],
   "source": [
    "numinc = code_v.newloc.value_counts().rename_axis('long_lat').to_frame('counts')\n",
    "numinc"
   ]
  },
  {
   "cell_type": "markdown",
   "metadata": {},
   "source": [
    "## Merging DataFrame code_v and numinc"
   ]
  },
  {
   "cell_type": "code",
   "execution_count": null,
   "metadata": {},
   "outputs": [],
   "source": [
    "codepts = pd.merge(code_v, numinc, left_on = 'newloc', right_on = 'long_lat')\n",
    "codepts = codepts.drop_duplicates(subset = 'newloc')\n",
    "codepts.shape"
   ]
  },
  {
   "cell_type": "markdown",
   "metadata": {},
   "source": [
    "## Histogram plot"
   ]
  },
  {
   "cell_type": "code",
   "execution_count": null,
   "metadata": {},
   "outputs": [],
   "source": [
    "plt.hist(codepts.counts, bins = [5, 10, 25, 50, 100, 500, 1000])"
   ]
  },
  {
   "cell_type": "markdown",
   "metadata": {},
   "source": [
    "## Finding locations with over 20 code violation calls"
   ]
  },
  {
   "cell_type": "code",
   "execution_count": null,
   "metadata": {},
   "outputs": [],
   "source": [
    "codev_pts = codepts.loc[codepts.counts >= 20].copy()\n",
    "codev_pts.shape"
   ]
  },
  {
   "cell_type": "markdown",
   "metadata": {},
   "source": [
    "## Finding the total number of code violations where each location has over 20 code violation calls"
   ]
  },
  {
   "cell_type": "code",
   "execution_count": null,
   "metadata": {},
   "outputs": [],
   "source": [
    "tot_code = codev_pts.counts.sum()\n",
    "tot_code"
   ]
  },
  {
   "cell_type": "markdown",
   "metadata": {},
   "source": [
    "## Reading in community data"
   ]
  },
  {
   "cell_type": "code",
   "execution_count": null,
   "metadata": {
    "scrolled": true
   },
   "outputs": [],
   "source": [
    "url_neigh = 'https://data.buffalony.gov/resource/g7bi-nz8b.geojson?$limit=1000000'\n",
    "hoods = gpd.read_file(url_neigh)\n",
    "hoods.shape"
   ]
  },
  {
   "cell_type": "markdown",
   "metadata": {},
   "source": [
    "## Converting to epsg: 3857"
   ]
  },
  {
   "cell_type": "code",
   "execution_count": null,
   "metadata": {},
   "outputs": [],
   "source": [
    "codev_pts = codev_pts.to_crs('epsg:3857')\n",
    "hoods = hoods.to_crs('epsg:3857')\n",
    "code_v = code_v.to_crs('epsg:3857')\n",
    "codepts = codepts.to_crs('epsg:3857')"
   ]
  },
  {
   "cell_type": "markdown",
   "metadata": {},
   "source": [
    "## Setting circle size to be a proportion of the code violation calls count to the total code violation calls"
   ]
  },
  {
   "cell_type": "code",
   "execution_count": null,
   "metadata": {},
   "outputs": [],
   "source": [
    "cir_size = (codev_pts.counts/tot_code)*300000 #Chose arbitary factor to make everything more legible\n",
    "cir_size"
   ]
  },
  {
   "cell_type": "markdown",
   "metadata": {},
   "source": [
    "## Create a point frequency map showing the properties with 20 or more code violations"
   ]
  },
  {
   "cell_type": "code",
   "execution_count": null,
   "metadata": {},
   "outputs": [],
   "source": [
    "hoods_poly = hoods.plot(figsize = (10, 10), alpha = 0.5, edgecolor = 'black', color = 'honeydew')\n",
    "ctx.add_basemap(hoods_poly,source = ctx.providers.Stamen.TonerLite)\n",
    "\n",
    "codev_pts.plot(ax = hoods_poly, edgecolor = 'black', alpha = 0.3, color = 'dodgerblue', marker = 'o', markersize = cir_size)"
   ]
  },
  {
   "cell_type": "markdown",
   "metadata": {},
   "source": [
    "# Bokeh interactive map of properties with 20 or more code violations"
   ]
  },
  {
   "cell_type": "code",
   "execution_count": null,
   "metadata": {},
   "outputs": [],
   "source": [
    "from bokeh.tile_providers import CARTODBPOSITRON, get_provider\n",
    "tileProvider = get_provider('CARTODBPOSITRON_RETINA')\n",
    "from bokeh.io import output_notebook, show, output_file, save\n",
    "from bokeh.plotting import figure\n",
    "from bokeh.models import (HoverTool, GeoJSONDataSource, LogColorMapper, ColorBar)\n",
    "from bokeh.transform import linear_cmap,log_cmap\n",
    "import bokeh.palettes"
   ]
  },
  {
   "cell_type": "code",
   "execution_count": null,
   "metadata": {},
   "outputs": [],
   "source": [
    "output_notebook()"
   ]
  },
  {
   "cell_type": "code",
   "execution_count": null,
   "metadata": {},
   "outputs": [],
   "source": [
    "TOOLS = \"pan, wheel_zoom, box_zoom, reset, save\""
   ]
  },
  {
   "cell_type": "code",
   "execution_count": null,
   "metadata": {},
   "outputs": [],
   "source": [
    "codev_pts['ccsize'] = (codev_pts.counts/codev_pts.counts.sum()) * 10000"
   ]
  },
  {
   "cell_type": "code",
   "execution_count": null,
   "metadata": {},
   "outputs": [],
   "source": [
    "f = figure(title = 'Properties with 20 or more code violations', tools = TOOLS,\\\n",
    "plot_width = 700, plot_height = 700,\\\n",
    "outline_line_color = None,\\\n",
    "min_border = 0, min_border_left = 0, min_border_right = 0,\\\n",
    "min_border_top = 0, min_border_bottom = 0)"
   ]
  },
  {
   "cell_type": "code",
   "execution_count": null,
   "metadata": {},
   "outputs": [],
   "source": [
    "f.add_tile(tileProvider)\n",
    "f.title.text_font_style = 'italic'\n",
    "f.title.text_font_size = '14pt'\n",
    "f.axis.visible = False"
   ]
  },
  {
   "cell_type": "code",
   "execution_count": null,
   "metadata": {},
   "outputs": [],
   "source": [
    "from bokeh.palettes import Turbo256"
   ]
  },
  {
   "cell_type": "code",
   "execution_count": null,
   "metadata": {},
   "outputs": [],
   "source": [
    "point_source = GeoJSONDataSource(geojson = codev_pts.to_json())\n",
    "poly_source = GeoJSONDataSource(geojson = hoods.to_json())\n",
    "\n",
    "areas = f.patches('xs', 'ys', source = poly_source, fill_color = 'honeydew', fill_alpha = 0.5, line_color = 'black', line_width = 0.5)\n",
    "\n",
    "circles = f.circle('x', 'y', source = point_source, size = 'ccsize', fill_alpha = 0.3, fill_color = 'dodgerblue', line_color = 'black')"
   ]
  },
  {
   "cell_type": "code",
   "execution_count": null,
   "metadata": {},
   "outputs": [],
   "source": [
    "c_hover = HoverTool(renderers = [circles])\n",
    "c_hover.point_policy = 'follow_mouse'\n",
    "c_hover.tooltips = [('Neighborhood Name', '@neighborhood'), ('Code Violations', '@counts')]\n",
    "f.add_tools(c_hover)\n",
    "\n",
    "output_file('Properties with 20 or more code violations.html', title = 'Properties with 20 or more code violations')\n",
    "\n",
    "show(f)"
   ]
  },
  {
   "cell_type": "markdown",
   "metadata": {},
   "source": [
    "# Point distribution map showing the number of code violations in each neighborhood"
   ]
  },
  {
   "cell_type": "markdown",
   "metadata": {},
   "source": [
    "## Performing spatial join of data frame code_v and hoods"
   ]
  },
  {
   "cell_type": "code",
   "execution_count": null,
   "metadata": {},
   "outputs": [],
   "source": [
    "codev_neigh = gpd.sjoin(code_v, hoods, how = 'inner', op = 'intersects')"
   ]
  },
  {
   "cell_type": "code",
   "execution_count": null,
   "metadata": {},
   "outputs": [],
   "source": [
    "codev_neigh.nbhdname.count()"
   ]
  },
  {
   "cell_type": "markdown",
   "metadata": {},
   "source": [
    "## Get a count of the number of points in each polygon"
   ]
  },
  {
   "cell_type": "code",
   "execution_count": null,
   "metadata": {},
   "outputs": [],
   "source": [
    "ct = codev_neigh.nbhdname.groupby(codev_neigh['nbhdname']).count().sort_values(ascending = False)\n",
    "\n",
    "ctdf = ct.to_frame(name = 'counts').reset_index()"
   ]
  },
  {
   "cell_type": "markdown",
   "metadata": {},
   "source": [
    "## Merge counts by neighborhood with the polygon geoDataFrame and determine proportional circle size"
   ]
  },
  {
   "cell_type": "code",
   "execution_count": null,
   "metadata": {},
   "outputs": [],
   "source": [
    "neigh_code = pd.merge(hoods, ctdf)\n",
    "minct = neigh_code['counts'].min()\n",
    "mincir = 75\n",
    "neigh_code['circle size'] = (neigh_code['counts']/minct * mincir)\n",
    "neigh_code['circle size'] = neigh_code['circle size'].round(0).astype(int)"
   ]
  },
  {
   "cell_type": "markdown",
   "metadata": {},
   "source": [
    "## Get centroid of each polygon and make the centroid the active geometry field for the geoDataFrame"
   ]
  },
  {
   "cell_type": "code",
   "execution_count": null,
   "metadata": {},
   "outputs": [],
   "source": [
    "neigh_code['centroids'] = neigh_code['geometry'].centroid\n",
    "neigh_code = neigh_code.set_geometry('centroids')"
   ]
  },
  {
   "cell_type": "markdown",
   "metadata": {},
   "source": [
    "## Set neigh_code to epsg:3857"
   ]
  },
  {
   "cell_type": "code",
   "execution_count": null,
   "metadata": {},
   "outputs": [],
   "source": [
    "neigh_code = neigh_code.to_crs('epsg:3857')"
   ]
  },
  {
   "cell_type": "markdown",
   "metadata": {},
   "source": [
    "## Create a point distribution map showing the number of code violations in each neighborhood"
   ]
  },
  {
   "cell_type": "code",
   "execution_count": null,
   "metadata": {},
   "outputs": [],
   "source": [
    "hoods_poly = hoods.plot(figsize = (10, 10), alpha = 0.5, color = 'azure', edgecolor = 'black')\n",
    "ctx.add_basemap(hoods_poly, source = ctx.providers.Stamen.TonerLite)\n",
    "\n",
    "neigh_code.plot(ax = hoods_poly, markersize = neigh_code['circle size'], alpha = 0.3, color = 'lawngreen', marker = 'o', edgecolor = 'black');"
   ]
  },
  {
   "cell_type": "markdown",
   "metadata": {},
   "source": [
    "# Bokeh interactive map of number of code violations in each neighborhood"
   ]
  },
  {
   "cell_type": "code",
   "execution_count": null,
   "metadata": {},
   "outputs": [],
   "source": [
    "neigh_code['ccsize'] = neigh_code['circle size']/20"
   ]
  },
  {
   "cell_type": "code",
   "execution_count": null,
   "metadata": {},
   "outputs": [],
   "source": [
    "f = figure(title = 'Number of code violations in each neighborhood', tools = TOOLS,\\\n",
    "plot_width = 750, plot_height = 750,\\\n",
    "outline_line_color = None,\\\n",
    "min_border = 0, min_border_left = 0, min_border_right = 0,\\\n",
    "min_border_top = 0, min_border_bottom = 0)"
   ]
  },
  {
   "cell_type": "code",
   "execution_count": null,
   "metadata": {},
   "outputs": [],
   "source": [
    "f.add_tile(tileProvider)\n",
    "f.title.text_font_style = 'italic'\n",
    "f.title.text_font_size = '14pt'\n",
    "f.axis.visible = False\n",
    "from bokeh.palettes import Turbo256\n",
    "\n",
    "neigh_code = neigh_code.drop('geometry', axis = 1).copy()\n",
    "\n",
    "point_source = GeoJSONDataSource(geojson = neigh_code.to_json())\n",
    "poly_source = GeoJSONDataSource(geojson = hoods.to_json())\n",
    "\n",
    "areas = f.patches('xs', 'ys', source = poly_source, fill_color = 'azure', fill_alpha = 0.5, line_color = 'black', line_width = 0.5)\n",
    "\n",
    "circles = f.circle('x', 'y', source = point_source, size = 'ccsize', fill_alpha = 0.3, fill_color = 'lawngreen', line_color = 'black')\n",
    "\n",
    "c_hover = HoverTool(renderers = [circles])\n",
    "c_hover.point_policy = 'follow_mouse'\n",
    "c_hover.tooltips = [('Neighborhood Name', '@nbhdname'), ('Code Violations', '@counts')]\n",
    "\n",
    "f.add_tools(c_hover)\n",
    "\n",
    "output_file('Neighborhood Code Violations.html', title = 'Neighborhood Code Violations')\n",
    "\n",
    "show(f)"
   ]
  },
  {
   "cell_type": "markdown",
   "metadata": {},
   "source": [
    "# 3. Create a choropleth map showing code violations per sq. mile for each neighborhood"
   ]
  },
  {
   "cell_type": "markdown",
   "metadata": {},
   "source": [
    "### Merge counts by neighborhood with the polygon geoDataFrame"
   ]
  },
  {
   "cell_type": "code",
   "execution_count": null,
   "metadata": {},
   "outputs": [],
   "source": [
    "neigh_code = pd.merge(hoods, ctdf)"
   ]
  },
  {
   "cell_type": "markdown",
   "metadata": {},
   "source": [
    "### Determining value for density based on neighborhood count over the sq. mileage of neighborhood"
   ]
  },
  {
   "cell_type": "code",
   "execution_count": null,
   "metadata": {},
   "outputs": [],
   "source": [
    "neigh_code['codev_density'] = neigh_code['counts'].astype(int)/neigh_code['sqmiles'].astype(float)"
   ]
  },
  {
   "cell_type": "markdown",
   "metadata": {},
   "source": [
    "### Set neigh_code and hoods to epsg:3857"
   ]
  },
  {
   "cell_type": "code",
   "execution_count": null,
   "metadata": {},
   "outputs": [],
   "source": [
    "neigh_code = neigh_code.to_crs('epsg:3857')"
   ]
  },
  {
   "cell_type": "markdown",
   "metadata": {},
   "source": [
    "### Create a choropleth map showing violations per sq. mile for each neighborhood"
   ]
  },
  {
   "cell_type": "code",
   "execution_count": null,
   "metadata": {},
   "outputs": [],
   "source": [
    "hoods_poly = hoods.plot(figsize = (10, 10))\n",
    "ctx.add_basemap(hoods_poly, source = ctx.providers.Stamen.TonerLite)\n",
    "\n",
    "neigh_code.plot(ax = hoods_poly, figsize = (10, 10), column = neigh_code['codev_density'], cmap = 'winter', edgecolor = 'black', legend = True);"
   ]
  },
  {
   "cell_type": "markdown",
   "metadata": {},
   "source": [
    "# Bokeh interactive maps"
   ]
  },
  {
   "cell_type": "code",
   "execution_count": null,
   "metadata": {},
   "outputs": [],
   "source": [
    "f = figure(title = 'Code violations per square mile for each neighborhood', tools = TOOLS,\\\n",
    "plot_width = 750, plot_height = 750,\\\n",
    "outline_line_color = None,\\\n",
    "min_border = 0, min_border_left = 0, min_border_right = 0,\\\n",
    "min_border_top = 0, min_border_bottom = 0)"
   ]
  },
  {
   "cell_type": "code",
   "execution_count": null,
   "metadata": {},
   "outputs": [],
   "source": [
    "f.add_tile(tileProvider)\n",
    "f.title.text_font_style = 'italic'\n",
    "f.title.text_font_size = '14pt'\n",
    "f.axis.visible = False\n",
    "from bokeh.palettes import Turbo256"
   ]
  },
  {
   "cell_type": "code",
   "execution_count": null,
   "metadata": {},
   "outputs": [],
   "source": [
    "point_source = GeoJSONDataSource(geojson = neigh_code.to_json())\n",
    "poly_source = GeoJSONDataSource(geojson = hoods.to_json())\n",
    "\n",
    "from bokeh.palettes import brewer\n",
    "\n",
    "palette = brewer['GnBu'][8]\n",
    "palette = palette[::-1]"
   ]
  },
  {
   "cell_type": "code",
   "execution_count": null,
   "metadata": {},
   "outputs": [],
   "source": [
    "vals = neigh_code['codev_density']\n",
    "\n",
    "from bokeh.models import LinearColorMapper, ColorBar\n",
    "\n",
    "color_mapper = LinearColorMapper(palette = palette, low = vals.min(), high = vals.max())\n",
    "color_bar = ColorBar(color_mapper = color_mapper, label_standoff = 8, width = 500, height = 20, \n",
    "                         location = (0, 0), orientation = 'horizontal')"
   ]
  },
  {
   "cell_type": "code",
   "execution_count": null,
   "metadata": {},
   "outputs": [],
   "source": [
    "areas = f.patches('xs', 'ys', source = point_source, fill_color = {'field': 'codev_density', 'transform': color_mapper}, fill_alpha = 0.5, line_color = 'black', line_width = 0.5)\n",
    "\n",
    "#circles = f.circle('x', 'y', source = point_source, size = 'ccsize', fill_alpha = 0.3, fill_color = 'lawngreen', line_color = 'black')\n",
    "\n",
    "f.add_layout(color_bar, 'below')\n",
    "\n",
    "c_hover = HoverTool(renderers = [areas])\n",
    "c_hover.point_policy = 'follow_mouse'\n",
    "c_hover.tooltips = [('Neighborhood Name', '@nbhdname'), ('Code Violations', '@counts')]\n",
    "\n",
    "f.add_tools(c_hover)\n",
    "\n",
    "output_file('Code violations per square mile for each neighborhood.html', title = 'Code violations per square mile for each neighborhood')\n",
    "\n",
    "show(f)"
   ]
  },
  {
   "cell_type": "markdown",
   "metadata": {},
   "source": [
    "# Plots of comparison of 'longitude and latitude' and 'address and zip code'"
   ]
  },
  {
   "cell_type": "code",
   "execution_count": null,
   "metadata": {},
   "outputs": [],
   "source": [
    "nrows = codev_extra.shape[0]\n",
    "codev_extra = codev_extra.loc[codev_extra.geometry.notnull()]\n",
    "krows = codev_extra.shape[0]\n",
    "removed = nrows - krows\n",
    "pctremoved = (removed/nrows)*100\n",
    "print (\"Original number of rows = {}\\nNumber of rows missing coordinates = {},\\nPercent missing data = {:6.1f}%\".format(nrows, removed, pctremoved))\n",
    "if pctremoved > 10:\n",
    "    print(\"\\nWARNING: Percent missing location data exceeds recommended limit!\")"
   ]
  },
  {
   "cell_type": "code",
   "execution_count": null,
   "metadata": {},
   "outputs": [],
   "source": [
    "long_lat_extra = (codev_extra['address'] + ' ' + codev_extra['zip']).values\n",
    "codev_extra = codev_extra.assign(extra_cred = long_lat_extra)"
   ]
  },
  {
   "cell_type": "code",
   "execution_count": null,
   "metadata": {},
   "outputs": [],
   "source": [
    "from IPython.display import display_html"
   ]
  },
  {
   "cell_type": "code",
   "execution_count": null,
   "metadata": {},
   "outputs": [],
   "source": [
    "def side_by_side(*args):\n",
    "    html_str = ''\n",
    "    for df in args:\n",
    "        html_str += df.to_html()\n",
    "    display_html(html_str.replace('table','table style=\"display:inline\"'), raw = True)"
   ]
  },
  {
   "cell_type": "code",
   "execution_count": null,
   "metadata": {},
   "outputs": [],
   "source": [
    "extra_num = codev_extra.extra_cred.value_counts().rename_axis('address + zip').to_frame('counts')"
   ]
  },
  {
   "cell_type": "code",
   "execution_count": null,
   "metadata": {},
   "outputs": [],
   "source": [
    "side_by_side(numinc.head(), extra_num.head())"
   ]
  },
  {
   "cell_type": "code",
   "execution_count": null,
   "metadata": {},
   "outputs": [],
   "source": [
    "codev_extra.drop_duplicates(subset = 'extra_cred', inplace = True)\n",
    "codev_extra_pts = pd.merge(codev_extra, extra_num, left_on = 'extra_cred', right_on = 'address + zip')\n",
    "codepts.shape, codev_extra_pts.shape"
   ]
  },
  {
   "cell_type": "code",
   "execution_count": null,
   "metadata": {},
   "outputs": [],
   "source": [
    "codepts.counts.sum(), codev_extra_pts.counts.sum()"
   ]
  },
  {
   "cell_type": "code",
   "execution_count": null,
   "metadata": {},
   "outputs": [],
   "source": [
    "cir_size1 = (codepts.counts/codepts.counts.sum())*400000\n",
    "codepts = codepts.to_crs('epsg:3857')\n",
    "\n",
    "hoods_poly = hoods.plot(figsize = (10, 10), alpha = 0.5, edgecolor = 'black', color = 'honeydew')\n",
    "ctx.add_basemap(hoods_poly, source = ctx.providers.Stamen.TonerLite)\n",
    "\n",
    "codepts.plot(ax = hoods_poly, edgecolor = 'black', alpha = 0.3, color = 'dodgerblue', marker = 'o', markersize = cir_size1);"
   ]
  },
  {
   "cell_type": "code",
   "execution_count": null,
   "metadata": {},
   "outputs": [],
   "source": [
    "cir_size2 = (codev_extra_pts.counts/codev_extra_pts.counts.sum())*400000\n",
    "codev_extra_pts = codev_extra_pts.to_crs('epsg:3857')\n",
    "\n",
    "hoods_poly = hoods.plot(figsize = (10, 10), alpha = 0.5, edgecolor = 'black', color = 'honeydew')\n",
    "ctx.add_basemap(hoods_poly, source = ctx.providers.Stamen.TonerLite)\n",
    "\n",
    "codev_extra_pts.plot(ax = hoods_poly, edgecolor = 'black', alpha = 0.3, color = 'dodgerblue', marker = 'o', markersize = cir_size2);"
   ]
  },
  {
   "cell_type": "markdown",
   "metadata": {},
   "source": [
    "# Bokeh interactive maps of previous comparison"
   ]
  },
  {
   "cell_type": "markdown",
   "metadata": {},
   "source": [
    "## Interactive map using original codepts; latitude + longitude"
   ]
  },
  {
   "cell_type": "code",
   "execution_count": null,
   "metadata": {},
   "outputs": [],
   "source": [
    "codepts['cir_size1'] = (codepts.counts/codepts.counts.sum()) * 100000"
   ]
  },
  {
   "cell_type": "code",
   "execution_count": null,
   "metadata": {},
   "outputs": [],
   "source": [
    "f = figure(title = 'Point frequency analysis using latitude + longitude', tools = TOOLS,\\\n",
    "plot_width = 700, plot_height = 700,\\\n",
    "outline_line_color = None,\\\n",
    "min_border = 0, min_border_left = 0, min_border_right = 0,\\\n",
    "min_border_top = 0, min_border_bottom = 0)"
   ]
  },
  {
   "cell_type": "code",
   "execution_count": null,
   "metadata": {},
   "outputs": [],
   "source": [
    "f.add_tile(tileProvider)\n",
    "f.title.text_font_style ='italic'\n",
    "f.title.text_font_size ='14pt'\n",
    "f.axis.visible = False\n",
    "\n",
    "point_source = GeoJSONDataSource(geojson = codepts.to_json())\n",
    "poly_source = GeoJSONDataSource(geojson = hoods.to_json())\n",
    "\n",
    "areas = f.patches('xs', 'ys', source = poly_source, fill_color = 'honeydew', fill_alpha = 0.5, line_color = 'black', line_width = 0.5)\n",
    "\n",
    "circles = f.circle('x', 'y', source = point_source, size = 'cir_size1', line_width = 0.5, fill_alpha = 0.3, fill_color = 'dodgerblue', line_color = 'black')\n",
    "\n",
    "\n",
    "c_hover = HoverTool(renderers = [circles])\n",
    "c_hover.point_policy = 'follow_mouse'\n",
    "c_hover.tooltips = [('Neighborhood Name', '@neighborhood'), ('Code Violations', '@counts')]\n",
    "f.add_tools(c_hover)\n",
    "\n",
    "output_file('Point frequency analysis using latitude + longitude.html', title = 'Point frequency analysis using latitude + longitude')\n",
    "\n",
    "show(f)"
   ]
  },
  {
   "cell_type": "markdown",
   "metadata": {},
   "source": [
    "## Interactive map with codev_extra_pts; address + zip"
   ]
  },
  {
   "cell_type": "code",
   "execution_count": null,
   "metadata": {},
   "outputs": [],
   "source": [
    "codev_extra_pts['cir_size2'] = (codev_extra_pts.counts/codev_extra_pts.counts.sum()) * 100000"
   ]
  },
  {
   "cell_type": "code",
   "execution_count": null,
   "metadata": {},
   "outputs": [],
   "source": [
    "f = figure(title = 'Point frequency analysis using address + zip', tools = TOOLS,\\\n",
    "plot_width = 700, plot_height = 700,\\\n",
    "outline_line_color = None,\\\n",
    "min_border = 0, min_border_left = 0, min_border_right = 0,\\\n",
    "min_border_top = 0, min_border_bottom = 0)"
   ]
  },
  {
   "cell_type": "code",
   "execution_count": null,
   "metadata": {},
   "outputs": [],
   "source": [
    "f.add_tile(tileProvider)\n",
    "f.title.text_font_style ='italic'\n",
    "f.title.text_font_size ='14pt'\n",
    "f.axis.visible = False\n",
    "\n",
    "point_source = GeoJSONDataSource(geojson = codev_extra_pts.to_json())\n",
    "poly_source = GeoJSONDataSource(geojson = hoods.to_json())\n",
    "\n",
    "areas = f.patches('xs', 'ys', source = poly_source, fill_color = 'honeydew', fill_alpha = 0.5, line_color = 'black', line_width = 0.5)\n",
    "\n",
    "circles = f.circle('x', 'y', source = point_source, size = 'cir_size2', line_width = 0.5, fill_alpha = 0.3, fill_color = 'dodgerblue', line_color = 'black')\n",
    "\n",
    "\n",
    "c_hover = HoverTool(renderers = [circles])\n",
    "c_hover.point_policy = 'follow_mouse'\n",
    "c_hover.tooltips = [('Neighborhood Name', '@neighborhood'), ('Code Violations', '@counts')]\n",
    "f.add_tools(c_hover)\n",
    "\n",
    "output_file('Point frequency analysis using address + zip.html', title = 'Point frequency analysis using address + zip')\n",
    "\n",
    "show(f)"
   ]
  }
 ],
 "metadata": {
  "kernelspec": {
   "display_name": "Python 3",
   "language": "python",
   "name": "python3"
  },
  "language_info": {
   "codemirror_mode": {
    "name": "ipython",
    "version": 3
   },
   "file_extension": ".py",
   "mimetype": "text/x-python",
   "name": "python",
   "nbconvert_exporter": "python",
   "pygments_lexer": "ipython3",
   "version": "3.7.7"
  }
 },
 "nbformat": 4,
 "nbformat_minor": 4
}
